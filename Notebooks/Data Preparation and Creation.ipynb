{
 "cells": [
  {
   "cell_type": "code",
   "execution_count": 1,
   "metadata": {},
   "outputs": [
    {
     "name": "stderr",
     "output_type": "stream",
     "text": [
      "PROJ: proj_create_from_database: Cannot find proj.db\n"
     ]
    }
   ],
   "source": [
    "#Import all reuired libraries\n",
    "import pandas as pd\n",
    "import datetime\n",
    "import geopandas as gpd\n",
    "from shapely.geometry import Point\n",
    "from datetime import datetime\n",
    "from datetime import timedelta\n",
    "from sklearn import preprocessing\n",
    "import category_encoders as ce \n",
    "from sklearn.preprocessing import StandardScaler\n",
    "from sklearn.cluster import KMeans\n",
    "import matplotlib.pyplot as plt\n",
    "import numpy as np\n",
    "from yellowbrick.cluster import KElbowVisualizer\n",
    "from sklearn.metrics import silhouette_samples, silhouette_score\n",
    "import matplotlib.cm as cm\n",
    "import os\n"
   ]
  },
  {
   "cell_type": "markdown",
   "metadata": {},
   "source": [
    "The primary dataset which will be used in this analysis is the victim based part 1 crime table, produced by the Baltimore City Police Department. It reports crimes based upon each victim, rather than occurance, and thus each row can be thought of as a victim. "
   ]
  },
  {
   "cell_type": "code",
   "execution_count": 2,
   "metadata": {},
   "outputs": [],
   "source": [
    "#Crime = pd.read_csv('https://data.baltimorecity.gov/api/views/wsfq-mvij/rows.csv?accessType=DOWNLOAD')\n",
    "Crime = pd.read_csv('C:/Users/cyeager/Desktop/UMBC/DATA 602/Homework2/Crime.csv',sep=\",\")"
   ]
  },
  {
   "cell_type": "code",
   "execution_count": 3,
   "metadata": {},
   "outputs": [
    {
     "name": "stdout",
     "output_type": "stream",
     "text": [
      "Index(['Unnamed: 0', 'CrimeDate', 'CrimeTime', 'CrimeCode', 'Location',\n",
      "       'Description', 'Inside/Outside', 'Weapon', 'Post', 'District',\n",
      "       'Neighborhood', 'Longitude', 'Latitude', 'Location 1', 'Premise',\n",
      "       'vri_name1', 'Total Incidents'],\n",
      "      dtype='object')\n"
     ]
    }
   ],
   "source": [
    "print(Crime.columns)"
   ]
  },
  {
   "cell_type": "code",
   "execution_count": 5,
   "metadata": {},
   "outputs": [],
   "source": [
    "#Keep only the columns we want\n",
    "df=Crime.filter(['CrimeDate', 'CrimeTime','Description','Latitude','Longitude'])"
   ]
  },
  {
   "cell_type": "code",
   "execution_count": 6,
   "metadata": {},
   "outputs": [
    {
     "data": {
      "text/html": [
       "<div>\n",
       "<style scoped>\n",
       "    .dataframe tbody tr th:only-of-type {\n",
       "        vertical-align: middle;\n",
       "    }\n",
       "\n",
       "    .dataframe tbody tr th {\n",
       "        vertical-align: top;\n",
       "    }\n",
       "\n",
       "    .dataframe thead th {\n",
       "        text-align: right;\n",
       "    }\n",
       "</style>\n",
       "<table border=\"1\" class=\"dataframe\">\n",
       "  <thead>\n",
       "    <tr style=\"text-align: right;\">\n",
       "      <th></th>\n",
       "      <th>CrimeDate</th>\n",
       "      <th>CrimeTime</th>\n",
       "      <th>Description</th>\n",
       "      <th>Latitude</th>\n",
       "      <th>Longitude</th>\n",
       "      <th>DT</th>\n",
       "    </tr>\n",
       "  </thead>\n",
       "  <tbody>\n",
       "    <tr>\n",
       "      <th>0</th>\n",
       "      <td>10/31/2020</td>\n",
       "      <td>10:57:00</td>\n",
       "      <td>ROBBERY - STREET</td>\n",
       "      <td>39.288013</td>\n",
       "      <td>-76.651406</td>\n",
       "      <td>10/31/2020 10:57:00</td>\n",
       "    </tr>\n",
       "    <tr>\n",
       "      <th>1</th>\n",
       "      <td>10/31/2020</td>\n",
       "      <td>18:19:00</td>\n",
       "      <td>COMMON ASSAULT</td>\n",
       "      <td>39.293719</td>\n",
       "      <td>-76.595851</td>\n",
       "      <td>10/31/2020 18:19:00</td>\n",
       "    </tr>\n",
       "    <tr>\n",
       "      <th>2</th>\n",
       "      <td>10/31/2020</td>\n",
       "      <td>14:00:00</td>\n",
       "      <td>LARCENY</td>\n",
       "      <td>39.353147</td>\n",
       "      <td>-76.588293</td>\n",
       "      <td>10/31/2020 14:00:00</td>\n",
       "    </tr>\n",
       "    <tr>\n",
       "      <th>3</th>\n",
       "      <td>10/31/2020</td>\n",
       "      <td>17:20:00</td>\n",
       "      <td>SHOOTING</td>\n",
       "      <td>39.322920</td>\n",
       "      <td>-76.594384</td>\n",
       "      <td>10/31/2020 17:20:00</td>\n",
       "    </tr>\n",
       "    <tr>\n",
       "      <th>4</th>\n",
       "      <td>10/31/2020</td>\n",
       "      <td>00:43:40</td>\n",
       "      <td>HOMICIDE</td>\n",
       "      <td>39.361468</td>\n",
       "      <td>-76.709190</td>\n",
       "      <td>10/31/2020 00:43:40</td>\n",
       "    </tr>\n",
       "    <tr>\n",
       "      <th>...</th>\n",
       "      <td>...</td>\n",
       "      <td>...</td>\n",
       "      <td>...</td>\n",
       "      <td>...</td>\n",
       "      <td>...</td>\n",
       "      <td>...</td>\n",
       "    </tr>\n",
       "    <tr>\n",
       "      <th>319456</th>\n",
       "      <td>05/01/1977</td>\n",
       "      <td>00:01:00</td>\n",
       "      <td>RAPE</td>\n",
       "      <td>39.328817</td>\n",
       "      <td>-76.626880</td>\n",
       "      <td>05/01/1977 00:01:00</td>\n",
       "    </tr>\n",
       "    <tr>\n",
       "      <th>319457</th>\n",
       "      <td>06/01/1975</td>\n",
       "      <td>00:00:00</td>\n",
       "      <td>RAPE</td>\n",
       "      <td>39.289582</td>\n",
       "      <td>-76.691297</td>\n",
       "      <td>06/01/1975 00:00:00</td>\n",
       "    </tr>\n",
       "    <tr>\n",
       "      <th>319458</th>\n",
       "      <td>07/01/1973</td>\n",
       "      <td>23:00:00</td>\n",
       "      <td>RAPE</td>\n",
       "      <td>39.326183</td>\n",
       "      <td>-76.687168</td>\n",
       "      <td>07/01/1973 23:00:00</td>\n",
       "    </tr>\n",
       "    <tr>\n",
       "      <th>319459</th>\n",
       "      <td>07/20/1969</td>\n",
       "      <td>21:00:00</td>\n",
       "      <td>RAPE</td>\n",
       "      <td>39.358898</td>\n",
       "      <td>-76.635300</td>\n",
       "      <td>07/20/1969 21:00:00</td>\n",
       "    </tr>\n",
       "    <tr>\n",
       "      <th>319460</th>\n",
       "      <td>10/30/1963</td>\n",
       "      <td>00:00:00</td>\n",
       "      <td>RAPE</td>\n",
       "      <td>39.326875</td>\n",
       "      <td>-76.702636</td>\n",
       "      <td>10/30/1963 00:00:00</td>\n",
       "    </tr>\n",
       "  </tbody>\n",
       "</table>\n",
       "<p>319461 rows × 6 columns</p>\n",
       "</div>"
      ],
      "text/plain": [
       "         CrimeDate CrimeTime       Description   Latitude  Longitude  \\\n",
       "0       10/31/2020  10:57:00  ROBBERY - STREET  39.288013 -76.651406   \n",
       "1       10/31/2020  18:19:00    COMMON ASSAULT  39.293719 -76.595851   \n",
       "2       10/31/2020  14:00:00           LARCENY  39.353147 -76.588293   \n",
       "3       10/31/2020  17:20:00          SHOOTING  39.322920 -76.594384   \n",
       "4       10/31/2020  00:43:40          HOMICIDE  39.361468 -76.709190   \n",
       "...            ...       ...               ...        ...        ...   \n",
       "319456  05/01/1977  00:01:00              RAPE  39.328817 -76.626880   \n",
       "319457  06/01/1975  00:00:00              RAPE  39.289582 -76.691297   \n",
       "319458  07/01/1973  23:00:00              RAPE  39.326183 -76.687168   \n",
       "319459  07/20/1969  21:00:00              RAPE  39.358898 -76.635300   \n",
       "319460  10/30/1963  00:00:00              RAPE  39.326875 -76.702636   \n",
       "\n",
       "                         DT  \n",
       "0       10/31/2020 10:57:00  \n",
       "1       10/31/2020 18:19:00  \n",
       "2       10/31/2020 14:00:00  \n",
       "3       10/31/2020 17:20:00  \n",
       "4       10/31/2020 00:43:40  \n",
       "...                     ...  \n",
       "319456  05/01/1977 00:01:00  \n",
       "319457  06/01/1975 00:00:00  \n",
       "319458  07/01/1973 23:00:00  \n",
       "319459  07/20/1969 21:00:00  \n",
       "319460  10/30/1963 00:00:00  \n",
       "\n",
       "[319461 rows x 6 columns]"
      ]
     },
     "execution_count": 6,
     "metadata": {},
     "output_type": "execute_result"
    }
   ],
   "source": [
    "#Concat the date and time columns into a single feature\n",
    "df['DT']=df['CrimeDate'] + ' ' + df['CrimeTime']\n",
    "#df"
   ]
  },
  {
   "cell_type": "code",
   "execution_count": 7,
   "metadata": {},
   "outputs": [
    {
     "data": {
      "text/html": [
       "<div>\n",
       "<style scoped>\n",
       "    .dataframe tbody tr th:only-of-type {\n",
       "        vertical-align: middle;\n",
       "    }\n",
       "\n",
       "    .dataframe tbody tr th {\n",
       "        vertical-align: top;\n",
       "    }\n",
       "\n",
       "    .dataframe thead th {\n",
       "        text-align: right;\n",
       "    }\n",
       "</style>\n",
       "<table border=\"1\" class=\"dataframe\">\n",
       "  <thead>\n",
       "    <tr style=\"text-align: right;\">\n",
       "      <th></th>\n",
       "      <th>CrimeDate</th>\n",
       "      <th>CrimeTime</th>\n",
       "      <th>Description</th>\n",
       "      <th>Latitude</th>\n",
       "      <th>Longitude</th>\n",
       "      <th>DT</th>\n",
       "    </tr>\n",
       "  </thead>\n",
       "  <tbody>\n",
       "    <tr>\n",
       "      <th>0</th>\n",
       "      <td>10/31/2020</td>\n",
       "      <td>10:57:00</td>\n",
       "      <td>ROBBERY - STREET</td>\n",
       "      <td>39.288013</td>\n",
       "      <td>-76.651406</td>\n",
       "      <td>2020-10-31 10:57:00</td>\n",
       "    </tr>\n",
       "    <tr>\n",
       "      <th>1</th>\n",
       "      <td>10/31/2020</td>\n",
       "      <td>18:19:00</td>\n",
       "      <td>COMMON ASSAULT</td>\n",
       "      <td>39.293719</td>\n",
       "      <td>-76.595851</td>\n",
       "      <td>2020-10-31 18:19:00</td>\n",
       "    </tr>\n",
       "    <tr>\n",
       "      <th>2</th>\n",
       "      <td>10/31/2020</td>\n",
       "      <td>14:00:00</td>\n",
       "      <td>LARCENY</td>\n",
       "      <td>39.353147</td>\n",
       "      <td>-76.588293</td>\n",
       "      <td>2020-10-31 14:00:00</td>\n",
       "    </tr>\n",
       "    <tr>\n",
       "      <th>3</th>\n",
       "      <td>10/31/2020</td>\n",
       "      <td>17:20:00</td>\n",
       "      <td>SHOOTING</td>\n",
       "      <td>39.322920</td>\n",
       "      <td>-76.594384</td>\n",
       "      <td>2020-10-31 17:20:00</td>\n",
       "    </tr>\n",
       "    <tr>\n",
       "      <th>4</th>\n",
       "      <td>10/31/2020</td>\n",
       "      <td>00:43:40</td>\n",
       "      <td>HOMICIDE</td>\n",
       "      <td>39.361468</td>\n",
       "      <td>-76.709190</td>\n",
       "      <td>2020-10-31 00:43:40</td>\n",
       "    </tr>\n",
       "    <tr>\n",
       "      <th>...</th>\n",
       "      <td>...</td>\n",
       "      <td>...</td>\n",
       "      <td>...</td>\n",
       "      <td>...</td>\n",
       "      <td>...</td>\n",
       "      <td>...</td>\n",
       "    </tr>\n",
       "    <tr>\n",
       "      <th>319456</th>\n",
       "      <td>05/01/1977</td>\n",
       "      <td>00:01:00</td>\n",
       "      <td>RAPE</td>\n",
       "      <td>39.328817</td>\n",
       "      <td>-76.626880</td>\n",
       "      <td>1977-05-01 00:01:00</td>\n",
       "    </tr>\n",
       "    <tr>\n",
       "      <th>319457</th>\n",
       "      <td>06/01/1975</td>\n",
       "      <td>00:00:00</td>\n",
       "      <td>RAPE</td>\n",
       "      <td>39.289582</td>\n",
       "      <td>-76.691297</td>\n",
       "      <td>1975-06-01 00:00:00</td>\n",
       "    </tr>\n",
       "    <tr>\n",
       "      <th>319458</th>\n",
       "      <td>07/01/1973</td>\n",
       "      <td>23:00:00</td>\n",
       "      <td>RAPE</td>\n",
       "      <td>39.326183</td>\n",
       "      <td>-76.687168</td>\n",
       "      <td>1973-07-01 23:00:00</td>\n",
       "    </tr>\n",
       "    <tr>\n",
       "      <th>319459</th>\n",
       "      <td>07/20/1969</td>\n",
       "      <td>21:00:00</td>\n",
       "      <td>RAPE</td>\n",
       "      <td>39.358898</td>\n",
       "      <td>-76.635300</td>\n",
       "      <td>1969-07-20 21:00:00</td>\n",
       "    </tr>\n",
       "    <tr>\n",
       "      <th>319460</th>\n",
       "      <td>10/30/1963</td>\n",
       "      <td>00:00:00</td>\n",
       "      <td>RAPE</td>\n",
       "      <td>39.326875</td>\n",
       "      <td>-76.702636</td>\n",
       "      <td>1963-10-30 00:00:00</td>\n",
       "    </tr>\n",
       "  </tbody>\n",
       "</table>\n",
       "<p>319461 rows × 6 columns</p>\n",
       "</div>"
      ],
      "text/plain": [
       "         CrimeDate CrimeTime       Description   Latitude  Longitude  \\\n",
       "0       10/31/2020  10:57:00  ROBBERY - STREET  39.288013 -76.651406   \n",
       "1       10/31/2020  18:19:00    COMMON ASSAULT  39.293719 -76.595851   \n",
       "2       10/31/2020  14:00:00           LARCENY  39.353147 -76.588293   \n",
       "3       10/31/2020  17:20:00          SHOOTING  39.322920 -76.594384   \n",
       "4       10/31/2020  00:43:40          HOMICIDE  39.361468 -76.709190   \n",
       "...            ...       ...               ...        ...        ...   \n",
       "319456  05/01/1977  00:01:00              RAPE  39.328817 -76.626880   \n",
       "319457  06/01/1975  00:00:00              RAPE  39.289582 -76.691297   \n",
       "319458  07/01/1973  23:00:00              RAPE  39.326183 -76.687168   \n",
       "319459  07/20/1969  21:00:00              RAPE  39.358898 -76.635300   \n",
       "319460  10/30/1963  00:00:00              RAPE  39.326875 -76.702636   \n",
       "\n",
       "                        DT  \n",
       "0      2020-10-31 10:57:00  \n",
       "1      2020-10-31 18:19:00  \n",
       "2      2020-10-31 14:00:00  \n",
       "3      2020-10-31 17:20:00  \n",
       "4      2020-10-31 00:43:40  \n",
       "...                    ...  \n",
       "319456 1977-05-01 00:01:00  \n",
       "319457 1975-06-01 00:00:00  \n",
       "319458 1973-07-01 23:00:00  \n",
       "319459 1969-07-20 21:00:00  \n",
       "319460 1963-10-30 00:00:00  \n",
       "\n",
       "[319461 rows x 6 columns]"
      ]
     },
     "execution_count": 7,
     "metadata": {},
     "output_type": "execute_result"
    }
   ],
   "source": [
    "#reformat into a new datetime column\n",
    "df['DT']=pd.to_datetime(df['DT'])\n",
    "#df"
   ]
  },
  {
   "cell_type": "markdown",
   "metadata": {},
   "source": [
    "Here we zip the latitude and longitude features into one, then apply the point function so that they can be displayed as a single dot of a map for each crime."
   ]
  },
  {
   "cell_type": "code",
   "execution_count": 8,
   "metadata": {},
   "outputs": [],
   "source": [
    "df['Coordinates'] = list(zip(df['Longitude'], df['Latitude']))\n",
    "df['Coordinates'] = df['Coordinates'].apply(Point)"
   ]
  },
  {
   "cell_type": "code",
   "execution_count": 9,
   "metadata": {},
   "outputs": [
    {
     "data": {
      "text/plain": [
       "Timestamp('2014-01-01 00:01:00')"
      ]
     },
     "execution_count": 9,
     "metadata": {},
     "output_type": "execute_result"
    }
   ],
   "source": [
    "#All data prior to Jan 1 2014 was found to be sparse and inconsistent and thus is removed\n",
    "df=df[(df['DT'] >= '2014-01-01 00:00:01')]\n",
    "df['DT'].min()"
   ]
  },
  {
   "cell_type": "code",
   "execution_count": 10,
   "metadata": {},
   "outputs": [],
   "source": [
    "#Save of a copy of this to come back to if we mess it up\n",
    "df_saved=df"
   ]
  },
  {
   "cell_type": "code",
   "execution_count": 11,
   "metadata": {},
   "outputs": [],
   "source": [
    "#Save of a copy of this to come back to if we mess it up\n",
    "df_saved.to_pickle('CrimemapData.pkl')"
   ]
  },
  {
   "cell_type": "code",
   "execution_count": null,
   "metadata": {},
   "outputs": [],
   "source": [
    "df = pd.read_pickle('CrimemapData.pkl')"
   ]
  },
  {
   "cell_type": "code",
   "execution_count": 12,
   "metadata": {},
   "outputs": [
    {
     "name": "stdout",
     "output_type": "stream",
     "text": [
      "(319337, 7)\n",
      "(319026, 7)\n"
     ]
    }
   ],
   "source": [
    "#Remove na values, only a few are lost in proportion to overall size, not worth investigating to potentially fix or interpolate\n",
    "print(df.shape)\n",
    "df=df.dropna(axis=0,how='any')\n",
    "df=df.dropna(axis=1,how='any')\n",
    "print(df.shape)"
   ]
  },
  {
   "cell_type": "markdown",
   "metadata": {},
   "source": [
    "We are going to break this data down into 2 hours intervals of time where we look at all of the crime which is taking place in the city during that snapshot and see if we can find a pattern that acts as a precursor to homicides/shootings. The first thing we do here is figure out how many 2 hours groups we can get from this dataset:"
   ]
  },
  {
   "cell_type": "code",
   "execution_count": 13,
   "metadata": {},
   "outputs": [
    {
     "name": "stdout",
     "output_type": "stream",
     "text": [
      "2014-01-01 00:01:00\n",
      "2020-10-31 22:20:00\n"
     ]
    }
   ],
   "source": [
    "print(df['DT'].min())\n",
    "print(df['DT'].max())\n",
    "T=(df['DT'].max())-(df['DT'].min())"
   ]
  },
  {
   "cell_type": "code",
   "execution_count": 47,
   "metadata": {},
   "outputs": [
    {
     "data": {
      "text/plain": [
       "29951.0"
      ]
     },
     "execution_count": 47,
     "metadata": {},
     "output_type": "execute_result"
    }
   ],
   "source": [
    "#here we find the total number of hours contained within our df and then see how many 2 hour chunks there are within in.\n",
    "#We can create 29951 images \n",
    "days, seconds = T.days, T.seconds\n",
    "hours = days * 24 + seconds // 3600\n",
    "hours/2"
   ]
  },
  {
   "cell_type": "code",
   "execution_count": 15,
   "metadata": {},
   "outputs": [],
   "source": [
    "#We want each type of crime to be a specific color\n",
    "ClusterColors = ['#E47A2E', '#3F69AA', '#D5AE41', '#BD3D3A','#BD3D3A',\"#006E6D\",'#7F4145','#223A5E','#BD3D3A', '#3F69AA', '#D5AE41', '#766F57','#E47A2E',\"#006E6D\",'#7F4145','#223A5E',\"#9C9A40\",\"#9C9A40\",'blue','green','red','purple','brown','#BD3D3A', '#3F69AA', '#D5AE41', '#766F57','#E47A2E',\"#006E6D\",'#7F4145','#223A5E',\"#9C9A40\"]"
   ]
  },
  {
   "cell_type": "code",
   "execution_count": 17,
   "metadata": {},
   "outputs": [],
   "source": [
    "#Here we assign the color and size to each crime type point\n",
    "CrimeColours = list(zip(list(df['Description'].unique()), ClusterColors))\n",
    "CrimeColours=pd.DataFrame(CrimeColours)\n",
    "CrimeColours['shape']=50"
   ]
  },
  {
   "cell_type": "code",
   "execution_count": 20,
   "metadata": {},
   "outputs": [],
   "source": [
    "#Rename Colmns\n",
    "CrimeColours.columns=['crime','color','shape']"
   ]
  },
  {
   "cell_type": "code",
   "execution_count": 21,
   "metadata": {},
   "outputs": [],
   "source": [
    "df = pd.merge(df, CrimeColours, left_on=[\"Description\"], right_on=['crime'])"
   ]
  },
  {
   "cell_type": "markdown",
   "metadata": {},
   "source": [
    "Running the loop to create almost 30k maps is very time consuming. Via trial and error it was found that the df had a few flaws which were not immediately noticeable. One of these was that a hadful of points actually fell outside the city due to geocoding errors. Here we find those points via spatially joining all of the data to a polygon of the city, then filtering the main df of those without a match."
   ]
  },
  {
   "cell_type": "code",
   "execution_count": null,
   "metadata": {},
   "outputs": [],
   "source": [
    "Outsidezbmore=gpd.sjoin(BaltimoreCommunities,gpd.GeoDataFrame(df, geometry='Coordinates').set_crs(\"EPSG:4326\"), op='contains')"
   ]
  },
  {
   "cell_type": "code",
   "execution_count": null,
   "metadata": {},
   "outputs": [],
   "source": [
    "Outsidezbmore.index_right\n",
    "main_list = np.setdiff1d(list(df.index),list(Outsidezbmore.index_right))\n",
    "main_list"
   ]
  },
  {
   "cell_type": "code",
   "execution_count": null,
   "metadata": {},
   "outputs": [],
   "source": [
    "print(df.shape)\n",
    "df=df.drop(df.index[main_list])\n",
    "print(df.shape)"
   ]
  },
  {
   "cell_type": "code",
   "execution_count": null,
   "metadata": {},
   "outputs": [],
   "source": [
    "#save it again\n",
    "df.to_pickle('CrimemapDataClensed.pkl')"
   ]
  },
  {
   "cell_type": "code",
   "execution_count": 2,
   "metadata": {},
   "outputs": [
    {
     "data": {
      "text/html": [
       "<div>\n",
       "<style scoped>\n",
       "    .dataframe tbody tr th:only-of-type {\n",
       "        vertical-align: middle;\n",
       "    }\n",
       "\n",
       "    .dataframe tbody tr th {\n",
       "        vertical-align: top;\n",
       "    }\n",
       "\n",
       "    .dataframe thead th {\n",
       "        text-align: right;\n",
       "    }\n",
       "</style>\n",
       "<table border=\"1\" class=\"dataframe\">\n",
       "  <thead>\n",
       "    <tr style=\"text-align: right;\">\n",
       "      <th></th>\n",
       "      <th>CrimeDate</th>\n",
       "      <th>CrimeTime</th>\n",
       "      <th>Description</th>\n",
       "      <th>Latitude</th>\n",
       "      <th>Longitude</th>\n",
       "      <th>DT</th>\n",
       "      <th>Coordinates</th>\n",
       "      <th>crime</th>\n",
       "      <th>color</th>\n",
       "      <th>shape</th>\n",
       "    </tr>\n",
       "  </thead>\n",
       "  <tbody>\n",
       "    <tr>\n",
       "      <th>0</th>\n",
       "      <td>10/31/2020</td>\n",
       "      <td>10:57:00</td>\n",
       "      <td>ROBBERY - STREET</td>\n",
       "      <td>39.288013</td>\n",
       "      <td>-76.651406</td>\n",
       "      <td>2020-10-31 10:57:00</td>\n",
       "      <td>POINT (-76.65141 39.28801)</td>\n",
       "      <td>ROBBERY - STREET</td>\n",
       "      <td>#E47A2E</td>\n",
       "      <td>50</td>\n",
       "    </tr>\n",
       "    <tr>\n",
       "      <th>1</th>\n",
       "      <td>10/31/2020</td>\n",
       "      <td>16:18:00</td>\n",
       "      <td>ROBBERY - STREET</td>\n",
       "      <td>39.248946</td>\n",
       "      <td>-76.639765</td>\n",
       "      <td>2020-10-31 16:18:00</td>\n",
       "      <td>POINT (-76.63977 39.24895)</td>\n",
       "      <td>ROBBERY - STREET</td>\n",
       "      <td>#E47A2E</td>\n",
       "      <td>50</td>\n",
       "    </tr>\n",
       "    <tr>\n",
       "      <th>2</th>\n",
       "      <td>10/31/2020</td>\n",
       "      <td>10:57:00</td>\n",
       "      <td>ROBBERY - STREET</td>\n",
       "      <td>39.288013</td>\n",
       "      <td>-76.651406</td>\n",
       "      <td>2020-10-31 10:57:00</td>\n",
       "      <td>POINT (-76.65141 39.28801)</td>\n",
       "      <td>ROBBERY - STREET</td>\n",
       "      <td>#E47A2E</td>\n",
       "      <td>50</td>\n",
       "    </tr>\n",
       "    <tr>\n",
       "      <th>3</th>\n",
       "      <td>10/31/2020</td>\n",
       "      <td>10:45:00</td>\n",
       "      <td>ROBBERY - STREET</td>\n",
       "      <td>39.309795</td>\n",
       "      <td>-76.648154</td>\n",
       "      <td>2020-10-31 10:45:00</td>\n",
       "      <td>POINT (-76.64815 39.30980)</td>\n",
       "      <td>ROBBERY - STREET</td>\n",
       "      <td>#E47A2E</td>\n",
       "      <td>50</td>\n",
       "    </tr>\n",
       "    <tr>\n",
       "      <th>4</th>\n",
       "      <td>10/30/2020</td>\n",
       "      <td>14:43:00</td>\n",
       "      <td>ROBBERY - STREET</td>\n",
       "      <td>39.352462</td>\n",
       "      <td>-76.595359</td>\n",
       "      <td>2020-10-30 14:43:00</td>\n",
       "      <td>POINT (-76.59536 39.35246)</td>\n",
       "      <td>ROBBERY - STREET</td>\n",
       "      <td>#E47A2E</td>\n",
       "      <td>50</td>\n",
       "    </tr>\n",
       "  </tbody>\n",
       "</table>\n",
       "</div>"
      ],
      "text/plain": [
       "    CrimeDate CrimeTime       Description   Latitude  Longitude  \\\n",
       "0  10/31/2020  10:57:00  ROBBERY - STREET  39.288013 -76.651406   \n",
       "1  10/31/2020  16:18:00  ROBBERY - STREET  39.248946 -76.639765   \n",
       "2  10/31/2020  10:57:00  ROBBERY - STREET  39.288013 -76.651406   \n",
       "3  10/31/2020  10:45:00  ROBBERY - STREET  39.309795 -76.648154   \n",
       "4  10/30/2020  14:43:00  ROBBERY - STREET  39.352462 -76.595359   \n",
       "\n",
       "                   DT                 Coordinates             crime    color  \\\n",
       "0 2020-10-31 10:57:00  POINT (-76.65141 39.28801)  ROBBERY - STREET  #E47A2E   \n",
       "1 2020-10-31 16:18:00  POINT (-76.63977 39.24895)  ROBBERY - STREET  #E47A2E   \n",
       "2 2020-10-31 10:57:00  POINT (-76.65141 39.28801)  ROBBERY - STREET  #E47A2E   \n",
       "3 2020-10-31 10:45:00  POINT (-76.64815 39.30980)  ROBBERY - STREET  #E47A2E   \n",
       "4 2020-10-30 14:43:00  POINT (-76.59536 39.35246)  ROBBERY - STREET  #E47A2E   \n",
       "\n",
       "   shape  \n",
       "0     50  \n",
       "1     50  \n",
       "2     50  \n",
       "3     50  \n",
       "4     50  "
      ]
     },
     "execution_count": 2,
     "metadata": {},
     "output_type": "execute_result"
    }
   ],
   "source": [
    "df = pd.read_pickle('CrimemapDataClensed.pkl')\n",
    "df.head()"
   ]
  },
  {
   "cell_type": "markdown",
   "metadata": {},
   "source": [
    "Finally, the loop below creates a new df for each 2 hour window within the master dataframe, then appends each of these new, smaller dfs to a list."
   ]
  },
  {
   "cell_type": "code",
   "execution_count": 4,
   "metadata": {},
   "outputs": [],
   "source": [
    "maybe=[]\n",
    "X=df['DT'].min()\n",
    "Y=df['DT'].min()- timedelta(hours=2)\n",
    "for i in range(29950):\n",
    "    X=X + timedelta(hours=2)\n",
    "    Y=Y + timedelta(hours=2)\n",
    "    maybe.append(df[(df.DT >=Y) & (df.DT <=X)])\n",
    "        \n",
    "    #print(str(Y)+\" - \"+str(X))"
   ]
  },
  {
   "cell_type": "markdown",
   "metadata": {},
   "source": [
    "We create a list of the 2 hour dfs which contain either homicide or shooting for identification purposes since this is a classification model. Using this data we will place each image into a folder that fits its classification (homicide/shooting or none)."
   ]
  },
  {
   "cell_type": "code",
   "execution_count": 5,
   "metadata": {},
   "outputs": [],
   "source": [
    "searchfor=[\"SHOOTING\",\"HOMICIDE\"]\n",
    "um=[]\n",
    "for i in range(len(maybe)):\n",
    "    \n",
    "    um.append(maybe[i][maybe[i]['Description'].str.contains('|'.join(searchfor))].empty)"
   ]
  },
  {
   "cell_type": "code",
   "execution_count": 8,
   "metadata": {},
   "outputs": [],
   "source": [
    "#Read in the neighborhoods boundary shapefile from API\n",
    "BaltimoreCommunities = gpd.read_file('https://data.baltimorecity.gov/api/geospatial/peh2-3qyi?method=export&format=Shapefile')"
   ]
  },
  {
   "cell_type": "code",
   "execution_count": 9,
   "metadata": {},
   "outputs": [
    {
     "data": {
      "text/plain": [
       "29950"
      ]
     },
     "execution_count": 9,
     "metadata": {},
     "output_type": "execute_result"
    }
   ],
   "source": [
    "len(maybe)"
   ]
  },
  {
   "cell_type": "markdown",
   "metadata": {},
   "source": [
    "The final data issue to overcome was filtering those 2 hour windows in which no crime at all took place. These would cause an error as the mapping operation is disrupted by empty dfs. Rather than deleted them, I simply incorporated an if statement with 'continue' line into the main mapping loop."
   ]
  },
  {
   "cell_type": "code",
   "execution_count": 10,
   "metadata": {},
   "outputs": [],
   "source": [
    "dud=[]\n",
    "for i in range(len(maybe)):\n",
    "    dud.append(maybe[i].empty)"
   ]
  },
  {
   "cell_type": "code",
   "execution_count": 11,
   "metadata": {},
   "outputs": [],
   "source": [
    "skiplist=[i for i,x in enumerate(dud) if x == True]\n",
    "#skiplist"
   ]
  },
  {
   "cell_type": "code",
   "execution_count": 13,
   "metadata": {},
   "outputs": [
    {
     "data": {
      "text/plain": [
       "137"
      ]
     },
     "execution_count": 13,
     "metadata": {},
     "output_type": "execute_result"
    }
   ],
   "source": [
    "#Only 137 of the nearly 30k 2 hour windows contained no crime.\n",
    "len(skiplist)"
   ]
  },
  {
   "cell_type": "markdown",
   "metadata": {},
   "source": [
    "This loop creates one map image for each 2 hour window. A point is displayed for each crime, it has a specific color which corresponds to its type. I've also spatially joined crime to the neighborhood in which it belongs and created a red outline for each neighbrhood where there was crime, all others are outlined in black. Once the map is created its given a unique name and saved as a .png file into a folder which dsignates its status as having a homicide or not. "
   ]
  },
  {
   "cell_type": "code",
   "execution_count": null,
   "metadata": {},
   "outputs": [],
   "source": [
    "for i in range(0,len(maybe)):\n",
    "    if maybe[i].empty==True:\n",
    "        continue    \n",
    "    base = BaltimoreCommunities.plot(color='none', edgecolor='black',alpha=.5)\n",
    "\n",
    "    base.set_aspect('equal')\n",
    "    base.set_axis_off()\n",
    "\n",
    "    ax=gpd.GeoDataFrame(maybe[i], geometry='Coordinates').set_crs(\"EPSG:4326\").plot(ax=base,c=maybe[i]['color'], markersize = maybe[i]['shape'],alpha=.7)\n",
    "\n",
    "    gpd.sjoin(BaltimoreCommunities,gpd.GeoDataFrame(maybe[i], geometry='Coordinates').set_crs(\"EPSG:4326\"), op='contains').plot(ax=base,edgecolor='red',color='none')\n",
    "  \n",
    "    fig = ax.figure\n",
    "\n",
    "\n",
    "    File=(os.getcwd()+\"\\Maps\"+\"\\\\\"+str(um[i])+\"\\\\\"+maybe[i].DT.max().strftime(format='%Y%m_%I%M')+str(i)+\".png\")\n",
    "    fig.savefig(File, bbox_inches = 'tight',pad_inches = 0)\n",
    "    plt.close('all')"
   ]
  },
  {
   "cell_type": "markdown",
   "metadata": {},
   "source": [
    "Out of our 29951 images, 'False' designates that there was a homicide or shooting during that 2 hour window. There were 4824 of these. The remaining 24989 (designated 'True') were windows of time without a shooting or homicide. "
   ]
  },
  {
   "cell_type": "code",
   "execution_count": null,
   "metadata": {},
   "outputs": [],
   "source": []
  }
 ],
 "metadata": {
  "kernelspec": {
   "display_name": "Python 3",
   "language": "python",
   "name": "python3"
  },
  "language_info": {
   "codemirror_mode": {
    "name": "ipython",
    "version": 3
   },
   "file_extension": ".py",
   "mimetype": "text/x-python",
   "name": "python",
   "nbconvert_exporter": "python",
   "pygments_lexer": "ipython3",
   "version": "3.7.4"
  }
 },
 "nbformat": 4,
 "nbformat_minor": 2
}
